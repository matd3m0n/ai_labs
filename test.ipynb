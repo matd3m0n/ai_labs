{
 "cells": [
  "cell_type": "code",
  "execution_count": 1, 
  "metadata": {},
 "outputs": [
  {
   "name": "stdout",
   "output_type" : "stream",
   "text": [
    "hello world!\n"
    ]
  }
  ],
"source": [
 "print('hello world')"
 ]
 
}
